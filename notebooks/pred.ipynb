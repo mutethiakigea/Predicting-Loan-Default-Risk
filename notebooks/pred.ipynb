{
 "cells": [
  {
   "cell_type": "markdown",
   "metadata": {},
   "source": [
    "## Predicting Loan Default Risk"
   ]
  },
  {
   "cell_type": "markdown",
   "metadata": {},
   "source": [
    "In this project, the goal is to build a classification model that predicts whether a loan applicant is likely to default on a loan.  Different machine learning algorithms such as logistic regression, decision trees, and random forest to identify the best-performing model are employed. Additionally, feature engineering will play a critical role in improving model performance by handling missing values, scaling, and encoding categorical variables."
   ]
  },
  {
   "cell_type": "code",
   "execution_count": 1,
   "metadata": {},
   "outputs": [],
   "source": [
    "### Loading Libraries\n",
    "import pandas as pd\n",
    "import numpy as np\n",
    "import matplotlib.pyplot as plt\n",
    "import seaborn as sns"
   ]
  },
  {
   "cell_type": "code",
   "execution_count": 2,
   "metadata": {},
   "outputs": [],
   "source": [
    "### Data Ingestion\n",
    "df=pd.read_csv(\"Loan_default.csv\")"
   ]
  },
  {
   "cell_type": "code",
   "execution_count": 3,
   "metadata": {},
   "outputs": [
    {
     "name": "stdout",
     "output_type": "stream",
     "text": [
      "       LoanID  Age  Income  LoanAmount  CreditScore  MonthsEmployed  \\\n",
      "0  I38PQUQS96   56   85994       50587          520              80   \n",
      "1  HPSK72WA7R   69   50432      124440          458              15   \n",
      "\n",
      "   NumCreditLines  InterestRate  LoanTerm  DTIRatio   Education  \\\n",
      "0               4         15.23        36      0.44  Bachelor's   \n",
      "1               1          4.81        60      0.68    Master's   \n",
      "\n",
      "  EmploymentType MaritalStatus HasMortgage HasDependents LoanPurpose  \\\n",
      "0      Full-time      Divorced         Yes           Yes       Other   \n",
      "1      Full-time       Married          No            No       Other   \n",
      "\n",
      "  HasCoSigner  Default  \n",
      "0         Yes        0  \n",
      "1         Yes        0  \n"
     ]
    }
   ],
   "source": [
    "print(df.head(2))"
   ]
  },
  {
   "cell_type": "code",
   "execution_count": 4,
   "metadata": {},
   "outputs": [
    {
     "data": {
      "text/plain": [
       "(255347, 18)"
      ]
     },
     "execution_count": 4,
     "metadata": {},
     "output_type": "execute_result"
    }
   ],
   "source": [
    "df.shape"
   ]
  },
  {
   "cell_type": "code",
   "execution_count": 5,
   "metadata": {},
   "outputs": [
    {
     "data": {
      "text/plain": [
       "Index(['LoanID', 'Age', 'Income', 'LoanAmount', 'CreditScore',\n",
       "       'MonthsEmployed', 'NumCreditLines', 'InterestRate', 'LoanTerm',\n",
       "       'DTIRatio', 'Education', 'EmploymentType', 'MaritalStatus',\n",
       "       'HasMortgage', 'HasDependents', 'LoanPurpose', 'HasCoSigner',\n",
       "       'Default'],\n",
       "      dtype='object')"
      ]
     },
     "execution_count": 5,
     "metadata": {},
     "output_type": "execute_result"
    }
   ],
   "source": [
    "df.columns"
   ]
  },
  {
   "cell_type": "code",
   "execution_count": 6,
   "metadata": {},
   "outputs": [
    {
     "data": {
      "text/plain": [
       "LoanID             object\n",
       "Age                 int64\n",
       "Income              int64\n",
       "LoanAmount          int64\n",
       "CreditScore         int64\n",
       "MonthsEmployed      int64\n",
       "NumCreditLines      int64\n",
       "InterestRate      float64\n",
       "LoanTerm            int64\n",
       "DTIRatio          float64\n",
       "Education          object\n",
       "EmploymentType     object\n",
       "MaritalStatus      object\n",
       "HasMortgage        object\n",
       "HasDependents      object\n",
       "LoanPurpose        object\n",
       "HasCoSigner        object\n",
       "Default             int64\n",
       "dtype: object"
      ]
     },
     "execution_count": 6,
     "metadata": {},
     "output_type": "execute_result"
    }
   ],
   "source": [
    "df.dtypes"
   ]
  },
  {
   "cell_type": "code",
   "execution_count": 7,
   "metadata": {},
   "outputs": [],
   "source": [
    "# mapping education categorical data to numerics\n",
    "education_mapping = {\n",
    "    \"High School\": 1,\n",
    "    \"Bachelor's\": 2,\n",
    "    \"Master's\": 3,\n",
    "    \"PhD\": 4\n",
    "}\n",
    "\n",
    "df['Education'] = df['Education'].map(education_mapping)\n",
    "\n",
    "# mapping employmenType categorical data to numerics\n",
    "employmentType_mapping = {\n",
    "    \"Unemployed\": 1,\n",
    "    \"Self-employed\": 2,\n",
    "    \"Part-time\": 3,\n",
    "    \"Full-time\": 4\n",
    "}\n",
    "df['EmploymentType']=df['EmploymentType'].map(employmentType_mapping)\n",
    "\n",
    "maritalstatus_mapping={\n",
    "    \"Single\":1,\n",
    "    \"Married\":2,\n",
    "    \"Divorced\":3\n",
    "}\n",
    "\n",
    "df['MaritalStatus']=df[\"MaritalStatus\"].map(maritalstatus_mapping)\n",
    "\n",
    "hasmortgage_mapping={\n",
    "    \"Yes\":0,\n",
    "    \"No\":1\n",
    "}\n",
    "\n",
    "df[\"HasMortgage\"]=df[\"HasMortgage\"].map(hasmortgage_mapping)\n",
    "\n",
    "loanpurpose_mapping={\n",
    "    \"Auto\":1,\n",
    "    \"Business\":2,\n",
    "    \"Education\":3,\n",
    "    \"Home\":4,\n",
    "    \"Other\":5\n",
    "}\n",
    "\n",
    "df[\"LoanPurpose\"]=df[\"LoanPurpose\"].map(loanpurpose_mapping)\n",
    "\n",
    "hasdependent_mapping={\n",
    "    \"Yes\": 1,\n",
    "    \"No\": 0\n",
    "}\n",
    "df[\"HasDependents\"]=df[\"HasDependents\"].map(hasdependent_mapping)\n",
    "hascosigner_mapping={\n",
    "    \"Yes\": 1,\n",
    "    \"No\": 0\n",
    "}\n",
    "\n",
    "df[\"HasCoSigner\"]=df[\"HasCoSigner\"].map(hascosigner_mapping)"
   ]
  },
  {
   "cell_type": "code",
   "execution_count": 8,
   "metadata": {},
   "outputs": [],
   "source": []
  },
  {
   "cell_type": "code",
   "execution_count": 9,
   "metadata": {},
   "outputs": [],
   "source": []
  },
  {
   "cell_type": "code",
   "execution_count": 10,
   "metadata": {},
   "outputs": [],
   "source": []
  },
  {
   "cell_type": "code",
   "execution_count": 12,
   "metadata": {},
   "outputs": [],
   "source": []
  },
  {
   "cell_type": "code",
   "execution_count": 13,
   "metadata": {},
   "outputs": [],
   "source": []
  },
  {
   "cell_type": "code",
   "execution_count": 14,
   "metadata": {},
   "outputs": [],
   "source": [
    "df.to_csv(\"Transformed_Data.csv\")"
   ]
  }
 ],
 "metadata": {
  "kernelspec": {
   "display_name": "Python 3",
   "language": "python",
   "name": "python3"
  },
  "language_info": {
   "codemirror_mode": {
    "name": "ipython",
    "version": 3
   },
   "file_extension": ".py",
   "mimetype": "text/x-python",
   "name": "python",
   "nbconvert_exporter": "python",
   "pygments_lexer": "ipython3",
   "version": "3.12.6"
  }
 },
 "nbformat": 4,
 "nbformat_minor": 2
}
